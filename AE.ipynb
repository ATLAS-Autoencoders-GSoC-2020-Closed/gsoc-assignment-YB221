{
 "cells": [
  {
   "cell_type": "code",
   "execution_count": 0,
   "metadata": {
    "colab": {},
    "colab_type": "code",
    "id": "SOZEOgot4Hcw"
   },
   "outputs": [],
   "source": [
    "%matplotlib inline\n",
    "import sys\n",
    "BIN = '../'\n",
    "sys.path.append(BIN)\n",
    "import numpy as np\n",
    "import pandas as pd\n",
    "import matplotlib.pyplot as plt\n",
    "#from sklearn.model_selection import train_test_split\n",
    "\n",
    "import torch\n",
    "import torch.nn as nn\n",
    "#import torch.nn.parallel\n",
    "import torch.optim as optim\n",
    "import torch.utils.data\n",
    "from torch.autograd import Variable\n",
    "\n",
    "from torch.utils.data import TensorDataset\n",
    "from torch.utils.data import DataLoader\n",
    "\n",
    "#import my_matplotlib_style as ms\n",
    "\n",
    "from fastai import data_block, basic_train, basic_data\n",
    "from fastai.callbacks import ActivationStats\n",
    "import fastai\n",
    "\n",
    "import matplotlib as mpl\n",
    "#mpl.rc_file(BIN + 'my_matplotlib_rcparams')"
   ]
  },
  {
   "cell_type": "code",
   "execution_count": 0,
   "metadata": {
    "colab": {},
    "colab_type": "code",
    "id": "zFWMgcGXRAUz"
   },
   "outputs": [],
   "source": [
    "!cp \"/content/drive/My Drive/all_jets_train_4D_100_percent.pkl\" /content\n",
    "!cp \"/content/drive/My Drive/all_jets_test_4D_100_percent.pkl\" /content\n",
    "train = pd.read_pickle(\"/content/all_jets_train_4D_100_percent.pkl\")\n",
    "test = pd.read_pickle(\"/content/all_jets_test_4D_100_percent.pkl\")\n"
   ]
  },
  {
   "cell_type": "code",
   "execution_count": 66,
   "metadata": {
    "colab": {
     "base_uri": "https://localhost:8080/",
     "height": 255
    },
    "colab_type": "code",
    "id": "JJJb1t5PcKu8",
    "outputId": "5c9d41e2-11f8-40a6-cbe1-e7db0f4a2415"
   },
   "outputs": [
    {
     "name": "stdout",
     "output_type": "stream",
     "text": [
      "Cloning into 'Ranger-Deep-Learning-Optimizer'...\n",
      "remote: Enumerating objects: 10, done.\u001b[K\n",
      "remote: Counting objects:  10% (1/10)\u001b[K\r",
      "remote: Counting objects:  20% (2/10)\u001b[K\r",
      "remote: Counting objects:  30% (3/10)\u001b[K\r",
      "remote: Counting objects:  40% (4/10)\u001b[K\r",
      "remote: Counting objects:  50% (5/10)\u001b[K\r",
      "remote: Counting objects:  60% (6/10)\u001b[K\r",
      "remote: Counting objects:  70% (7/10)\u001b[K\r",
      "remote: Counting objects:  80% (8/10)\u001b[K\r",
      "remote: Counting objects:  90% (9/10)\u001b[K\r",
      "remote: Counting objects: 100% (10/10)\u001b[K\r",
      "remote: Counting objects: 100% (10/10), done.\u001b[K\n",
      "remote: Compressing objects:  10% (1/10)\u001b[K\r",
      "remote: Compressing objects:  20% (2/10)\u001b[K\r",
      "remote: Compressing objects:  30% (3/10)\u001b[K\r",
      "remote: Compressing objects:  40% (4/10)\u001b[K\r",
      "remote: Compressing objects:  50% (5/10)\u001b[K\r",
      "remote: Compressing objects:  60% (6/10)\u001b[K\r",
      "remote: Compressing objects:  70% (7/10)\u001b[K\r",
      "remote: Compressing objects:  80% (8/10)\u001b[K\r",
      "remote: Compressing objects:  90% (9/10)\u001b[K\r",
      "remote: Compressing objects: 100% (10/10)\u001b[K\r",
      "remote: Compressing objects: 100% (10/10), done.\u001b[K\n",
      "Unpacking objects:   1% (1/79)   \r",
      "Unpacking objects:   2% (2/79)   \r",
      "Unpacking objects:   3% (3/79)   \r",
      "Unpacking objects:   5% (4/79)   \r",
      "Unpacking objects:   6% (5/79)   \r",
      "Unpacking objects:   7% (6/79)   \r",
      "Unpacking objects:   8% (7/79)   \r",
      "Unpacking objects:  10% (8/79)   \r",
      "Unpacking objects:  11% (9/79)   \r",
      "Unpacking objects:  12% (10/79)   \r",
      "Unpacking objects:  13% (11/79)   \r",
      "Unpacking objects:  15% (12/79)   \r",
      "Unpacking objects:  16% (13/79)   \r",
      "Unpacking objects:  17% (14/79)   \r",
      "Unpacking objects:  18% (15/79)   \r",
      "remote: Total 79 (delta 0), reused 8 (delta 0), pack-reused 69\u001b[K\n",
      "Unpacking objects:  20% (16/79)   \r",
      "Unpacking objects:  21% (17/79)   \r",
      "Unpacking objects:  22% (18/79)   \r",
      "Unpacking objects:  24% (19/79)   \r",
      "Unpacking objects:  25% (20/79)   \r",
      "Unpacking objects:  26% (21/79)   \r",
      "Unpacking objects:  27% (22/79)   \r",
      "Unpacking objects:  29% (23/79)   \r",
      "Unpacking objects:  30% (24/79)   \r",
      "Unpacking objects:  31% (25/79)   \r",
      "Unpacking objects:  32% (26/79)   \r",
      "Unpacking objects:  34% (27/79)   \r",
      "Unpacking objects:  35% (28/79)   \r",
      "Unpacking objects:  36% (29/79)   \r",
      "Unpacking objects:  37% (30/79)   \r",
      "Unpacking objects:  39% (31/79)   \r",
      "Unpacking objects:  40% (32/79)   \r",
      "Unpacking objects:  41% (33/79)   \r",
      "Unpacking objects:  43% (34/79)   \r",
      "Unpacking objects:  44% (35/79)   \r",
      "Unpacking objects:  45% (36/79)   \r",
      "Unpacking objects:  46% (37/79)   \r",
      "Unpacking objects:  48% (38/79)   \r",
      "Unpacking objects:  49% (39/79)   \r",
      "Unpacking objects:  50% (40/79)   \r",
      "Unpacking objects:  51% (41/79)   \r",
      "Unpacking objects:  53% (42/79)   \r",
      "Unpacking objects:  54% (43/79)   \r",
      "Unpacking objects:  55% (44/79)   \r",
      "Unpacking objects:  56% (45/79)   \r",
      "Unpacking objects:  58% (46/79)   \r",
      "Unpacking objects:  59% (47/79)   \r",
      "Unpacking objects:  60% (48/79)   \r",
      "Unpacking objects:  62% (49/79)   \r",
      "Unpacking objects:  63% (50/79)   \r",
      "Unpacking objects:  64% (51/79)   \r",
      "Unpacking objects:  65% (52/79)   \r",
      "Unpacking objects:  67% (53/79)   \r",
      "Unpacking objects:  68% (54/79)   \r",
      "Unpacking objects:  69% (55/79)   \r",
      "Unpacking objects:  70% (56/79)   \r",
      "Unpacking objects:  72% (57/79)   \r",
      "Unpacking objects:  73% (58/79)   \r",
      "Unpacking objects:  74% (59/79)   \r",
      "Unpacking objects:  75% (60/79)   \r",
      "Unpacking objects:  77% (61/79)   \r",
      "Unpacking objects:  78% (62/79)   \r",
      "Unpacking objects:  79% (63/79)   \r",
      "Unpacking objects:  81% (64/79)   \r",
      "Unpacking objects:  82% (65/79)   \r",
      "Unpacking objects:  83% (66/79)   \r",
      "Unpacking objects:  84% (67/79)   \r",
      "Unpacking objects:  86% (68/79)   \r",
      "Unpacking objects:  87% (69/79)   \r",
      "Unpacking objects:  88% (70/79)   \r",
      "Unpacking objects:  89% (71/79)   \r",
      "Unpacking objects:  91% (72/79)   \r",
      "Unpacking objects:  92% (73/79)   \r",
      "Unpacking objects:  93% (74/79)   \r",
      "Unpacking objects:  94% (75/79)   \r",
      "Unpacking objects:  96% (76/79)   \r",
      "Unpacking objects:  97% (77/79)   \r",
      "Unpacking objects:  98% (78/79)   \r",
      "Unpacking objects: 100% (79/79)   \r",
      "Unpacking objects: 100% (79/79), done.\n",
      "/content/Ranger-Deep-Learning-Optimizer/Ranger-Deep-Learning-Optimizer\n",
      "Obtaining file:///content/Ranger-Deep-Learning-Optimizer/Ranger-Deep-Learning-Optimizer\n",
      "Requirement already satisfied: torch in /usr/local/lib/python3.6/dist-packages (from ranger==0.0.1) (1.4.0)\n",
      "Installing collected packages: ranger\n",
      "  Found existing installation: ranger 0.0.1\n",
      "    Can't uninstall 'ranger'. No files were found to uninstall.\n",
      "  Running setup.py develop for ranger\n",
      "Successfully installed ranger\n"
     ]
    }
   ],
   "source": [
    "!git clone https://github.com/lessw2020/Ranger-Deep-Learning-Optimizer\n",
    "%cd Ranger-Deep-Learning-Optimizer\n",
    "!pip install -e . "
   ]
  },
  {
   "cell_type": "code",
   "execution_count": 67,
   "metadata": {
    "colab": {
     "base_uri": "https://localhost:8080/",
     "height": 419
    },
    "colab_type": "code",
    "id": "AR3PSA4uFF3c",
    "outputId": "1db39a0a-ebd5-4038-b3c9-e979e50968dd"
   },
   "outputs": [
    {
     "data": {
      "text/html": [
       "<div>\n",
       "<style scoped>\n",
       "    .dataframe tbody tr th:only-of-type {\n",
       "        vertical-align: middle;\n",
       "    }\n",
       "\n",
       "    .dataframe tbody tr th {\n",
       "        vertical-align: top;\n",
       "    }\n",
       "\n",
       "    .dataframe thead th {\n",
       "        text-align: right;\n",
       "    }\n",
       "</style>\n",
       "<table border=\"1\" class=\"dataframe\">\n",
       "  <thead>\n",
       "    <tr style=\"text-align: right;\">\n",
       "      <th></th>\n",
       "      <th>m</th>\n",
       "      <th>pt</th>\n",
       "      <th>phi</th>\n",
       "      <th>eta</th>\n",
       "    </tr>\n",
       "  </thead>\n",
       "  <tbody>\n",
       "    <tr>\n",
       "      <th>132784</th>\n",
       "      <td>3831.839355</td>\n",
       "      <td>22000.609375</td>\n",
       "      <td>1.567018</td>\n",
       "      <td>1.142924</td>\n",
       "    </tr>\n",
       "    <tr>\n",
       "      <th>99666</th>\n",
       "      <td>4582.417480</td>\n",
       "      <td>21648.210938</td>\n",
       "      <td>-2.680558</td>\n",
       "      <td>0.213654</td>\n",
       "    </tr>\n",
       "    <tr>\n",
       "      <th>26629</th>\n",
       "      <td>16747.765625</td>\n",
       "      <td>169514.281250</td>\n",
       "      <td>-1.948239</td>\n",
       "      <td>1.163296</td>\n",
       "    </tr>\n",
       "    <tr>\n",
       "      <th>80473</th>\n",
       "      <td>14789.586914</td>\n",
       "      <td>183085.609375</td>\n",
       "      <td>-1.641102</td>\n",
       "      <td>2.670927</td>\n",
       "    </tr>\n",
       "    <tr>\n",
       "      <th>48229</th>\n",
       "      <td>4646.724121</td>\n",
       "      <td>20527.130859</td>\n",
       "      <td>2.922270</td>\n",
       "      <td>-1.158871</td>\n",
       "    </tr>\n",
       "    <tr>\n",
       "      <th>...</th>\n",
       "      <td>...</td>\n",
       "      <td>...</td>\n",
       "      <td>...</td>\n",
       "      <td>...</td>\n",
       "    </tr>\n",
       "    <tr>\n",
       "      <th>53491</th>\n",
       "      <td>4953.317871</td>\n",
       "      <td>24546.789062</td>\n",
       "      <td>-2.150104</td>\n",
       "      <td>1.652488</td>\n",
       "    </tr>\n",
       "    <tr>\n",
       "      <th>106817</th>\n",
       "      <td>13648.668945</td>\n",
       "      <td>101725.289062</td>\n",
       "      <td>2.439408</td>\n",
       "      <td>1.593228</td>\n",
       "    </tr>\n",
       "    <tr>\n",
       "      <th>61324</th>\n",
       "      <td>5574.332520</td>\n",
       "      <td>24144.490234</td>\n",
       "      <td>1.226542</td>\n",
       "      <td>1.522092</td>\n",
       "    </tr>\n",
       "    <tr>\n",
       "      <th>132003</th>\n",
       "      <td>4341.430664</td>\n",
       "      <td>23436.962891</td>\n",
       "      <td>-2.397882</td>\n",
       "      <td>1.151906</td>\n",
       "    </tr>\n",
       "    <tr>\n",
       "      <th>34752</th>\n",
       "      <td>5150.322754</td>\n",
       "      <td>23761.560547</td>\n",
       "      <td>3.023713</td>\n",
       "      <td>-1.306494</td>\n",
       "    </tr>\n",
       "  </tbody>\n",
       "</table>\n",
       "<p>111778 rows × 4 columns</p>\n",
       "</div>"
      ],
      "text/plain": [
       "                   m             pt       phi       eta\n",
       "132784   3831.839355   22000.609375  1.567018  1.142924\n",
       "99666    4582.417480   21648.210938 -2.680558  0.213654\n",
       "26629   16747.765625  169514.281250 -1.948239  1.163296\n",
       "80473   14789.586914  183085.609375 -1.641102  2.670927\n",
       "48229    4646.724121   20527.130859  2.922270 -1.158871\n",
       "...              ...            ...       ...       ...\n",
       "53491    4953.317871   24546.789062 -2.150104  1.652488\n",
       "106817  13648.668945  101725.289062  2.439408  1.593228\n",
       "61324    5574.332520   24144.490234  1.226542  1.522092\n",
       "132003   4341.430664   23436.962891 -2.397882  1.151906\n",
       "34752    5150.322754   23761.560547  3.023713 -1.306494\n",
       "\n",
       "[111778 rows x 4 columns]"
      ]
     },
     "execution_count": 67,
     "metadata": {
      "tags": []
     },
     "output_type": "execute_result"
    }
   ],
   "source": [
    "train"
   ]
  },
  {
   "cell_type": "code",
   "execution_count": 0,
   "metadata": {
    "colab": {},
    "colab_type": "code",
    "id": "0Xo_-ebbasd2"
   },
   "outputs": [],
   "source": [
    "train_mean = train.mean()\n",
    "train_std = train.std()\n",
    "\n",
    "train = (train - train_mean) / train_std\n",
    "test = (test - train_mean) / train_std\n",
    "\n",
    "train_x = train\n",
    "test_x = test\n",
    "train_y = train_x  # y = x since we are building and AE\n",
    "test_y = test_x\n",
    "\n",
    "train_ds = TensorDataset(torch.FloatTensor(train_x.values), torch.FloatTensor(train_y.values))\n",
    "valid_ds = TensorDataset(torch.FloatTensor(test_x.values), torch.FloatTensor(test_y.values))"
   ]
  },
  {
   "cell_type": "code",
   "execution_count": 0,
   "metadata": {
    "colab": {},
    "colab_type": "code",
    "id": "PI4RbikCcP--"
   },
   "outputs": [],
   "source": [
    "def get_data(train_ds, valid_ds, bs):\n",
    "    return (\n",
    "        DataLoader(train_ds, batch_size=bs, shuffle=True),\n",
    "        DataLoader(valid_ds, batch_size=bs * 2),\n",
    "    )"
   ]
  },
  {
   "cell_type": "code",
   "execution_count": 0,
   "metadata": {
    "colab": {},
    "colab_type": "code",
    "id": "Y3nCwVS_KCZD"
   },
   "outputs": [],
   "source": [
    "\n",
    "train_dl, valid_dl = get_data(train_ds, valid_ds, bs=1024)"
   ]
  },
  {
   "cell_type": "code",
   "execution_count": 0,
   "metadata": {
    "colab": {},
    "colab_type": "code",
    "id": "ZsVa3itWcWle"
   },
   "outputs": [],
   "source": [
    "db = basic_data.DataBunch(train_dl, valid_dl)\n"
   ]
  },
  {
   "cell_type": "code",
   "execution_count": 0,
   "metadata": {
    "colab": {},
    "colab_type": "code",
    "id": "L4XcR9yg4RmS"
   },
   "outputs": [],
   "source": [
    "class AE(nn.Module):\n",
    "  def __init__(self):\n",
    "    super().__init__()\n",
    "    \n",
    "    self.en1= nn.Linear(4,200,bias=True)\n",
    "    self.en2= nn.Linear(200,200,bias=True)\n",
    "    self.en3= nn.Linear(200,100,bias=True)\n",
    "    self.en4= nn.Linear(100,100,bias=True)\n",
    "    self.en5= nn.Linear(100,50,bias=True)\n",
    "    self.en6 = nn.Linear(50,25,bias=True)\n",
    "    self.en7 = nn.Linear(25,3,bias=True)\n",
    "    self.de1 = nn.Linear(3,25,bias=True)\n",
    "    self.de2 = nn.Linear(25,50,bias=True)\n",
    "    self.de3 = nn.Linear(50,100,bias=True)\n",
    "    self.de4 = nn.Linear(100,100,bias=True)\n",
    "    self.de5 = nn.Linear(100,200,bias=True)\n",
    "    self.de6= nn.Linear(200,200,bias=True)\n",
    "    self.de7 = nn.Linear(200,4,bias=True)\n",
    "    self.tanh=nn.Tanh()\n",
    "   \n",
    "  def encoder(self,x):\n",
    "    x=self.tanh(self.en1(x)).float()\n",
    "    x=self.tanh(self.en2(x)).float()\n",
    "    x=self.tanh(self.en3(x)).float()\n",
    "    x=self.tanh(self.en4(x)).float()\n",
    "    x=self.tanh(self.en5(x)).float()\n",
    "    x=self.tanh(self.en6(x)).float()\n",
    "    return (self.en7(x)).float()\n",
    "  \n",
    "  def decoder(self,z):\n",
    "    z=self.tanh(self.de1(z)).float()\n",
    "    z=self.tanh(self.de2(z)).float()\n",
    "    z=self.tanh(self.de3(z)).float()\n",
    "    z=self.tanh(self.de4(z)).float()\n",
    "    z=self.tanh(self.de4(z)).float()\n",
    "    z=self.tanh(self.de5(z)).float()\n",
    "    z=self.tanh(self.de6(z)).float()\n",
    "    return (self.de7(z)).float()\n",
    "\n",
    "  def forward(self,x):\n",
    "    a=self.encoder(x).float()\n",
    "    a=self.decoder(a).float()\n",
    "    return a.float()\n"
   ]
  },
  {
   "cell_type": "code",
   "execution_count": 3,
   "metadata": {
    "colab": {
     "base_uri": "https://localhost:8080/",
     "height": 306
    },
    "colab_type": "code",
    "id": "DmdVPd587Z1l",
    "outputId": "96f87010-ab28-412a-f75a-ec87e3438977"
   },
   "outputs": [
    {
     "data": {
      "text/plain": [
       "AE(\n",
       "  (en1): Linear(in_features=4, out_features=200, bias=True)\n",
       "  (en2): Linear(in_features=200, out_features=200, bias=True)\n",
       "  (en3): Linear(in_features=200, out_features=100, bias=True)\n",
       "  (en4): Linear(in_features=100, out_features=100, bias=True)\n",
       "  (en5): Linear(in_features=100, out_features=50, bias=True)\n",
       "  (en6): Linear(in_features=50, out_features=25, bias=True)\n",
       "  (en7): Linear(in_features=25, out_features=3, bias=True)\n",
       "  (de1): Linear(in_features=3, out_features=25, bias=True)\n",
       "  (de2): Linear(in_features=25, out_features=50, bias=True)\n",
       "  (de3): Linear(in_features=50, out_features=100, bias=True)\n",
       "  (de4): Linear(in_features=100, out_features=100, bias=True)\n",
       "  (de5): Linear(in_features=100, out_features=200, bias=True)\n",
       "  (de6): Linear(in_features=200, out_features=200, bias=True)\n",
       "  (de7): Linear(in_features=200, out_features=4, bias=True)\n",
       "  (tanh): Tanh()\n",
       ")"
      ]
     },
     "execution_count": 3,
     "metadata": {
      "tags": []
     },
     "output_type": "execute_result"
    }
   ],
   "source": [
    "model=AE()\n",
    "model"
   ]
  },
  {
   "cell_type": "code",
   "execution_count": 0,
   "metadata": {
    "colab": {},
    "colab_type": "code",
    "id": "qlWmjgvXShrD"
   },
   "outputs": [],
   "source": [
    "!cp \"/content/drive/My Drive/AE.pth\" \"/content\""
   ]
  },
  {
   "cell_type": "code",
   "execution_count": 75,
   "metadata": {
    "colab": {
     "base_uri": "https://localhost:8080/",
     "height": 34
    },
    "colab_type": "code",
    "id": "4nqIN1St_wVp",
    "outputId": "3f0ce83b-bbba-46b1-b3f9-bcffbed7aa5f"
   },
   "outputs": [
    {
     "data": {
      "text/plain": [
       "<All keys matched successfully>"
      ]
     },
     "execution_count": 75,
     "metadata": {
      "tags": []
     },
     "output_type": "execute_result"
    }
   ],
   "source": [
    "model.load_state_dict(torch.load(\"/content/AE.pth\"),strict=False)"
   ]
  },
  {
   "cell_type": "code",
   "execution_count": 0,
   "metadata": {
    "colab": {},
    "colab_type": "code",
    "id": "MuRtwAtlbO2I"
   },
   "outputs": [],
   "source": [
    "model=model.cpu()"
   ]
  },
  {
   "cell_type": "code",
   "execution_count": 0,
   "metadata": {
    "colab": {},
    "colab_type": "code",
    "id": "E2kJCj12bUKO"
   },
   "outputs": [],
   "source": [
    "class RMSELoss(torch.nn.Module):\n",
    "    def __init__(self):\n",
    "        super(RMSELoss,self).__init__()\n",
    "\n",
    "    def forward(self,x,y):\n",
    "        criterion = nn.MSELoss()\n",
    "        loss = torch.sqrt(criterion(x, y))\n",
    "        return loss\n",
    "loss_func = nn.MSELoss().float()"
   ]
  },
  {
   "cell_type": "code",
   "execution_count": 0,
   "metadata": {
    "colab": {},
    "colab_type": "code",
    "id": "dC6dEdrFdFxa"
   },
   "outputs": [],
   "source": [
    "from ranger import Ranger"
   ]
  },
  {
   "cell_type": "code",
   "execution_count": 0,
   "metadata": {
    "colab": {},
    "colab_type": "code",
    "id": "ACrHkBFLbbWX"
   },
   "outputs": [],
   "source": [
    "\n",
    "bn_wd = False  \n",
    "true_wd = True  \n",
    "wd = 1e-6\n",
    "learn = basic_train.Learner(data=db, model=model,opt_func=Ranger , loss_func=loss_func, wd=wd, bn_wd=bn_wd, true_wd=true_wd)"
   ]
  },
  {
   "cell_type": "code",
   "execution_count": 80,
   "metadata": {
    "colab": {
     "base_uri": "https://localhost:8080/",
     "height": 34
    },
    "colab_type": "code",
    "id": "gHR4I3Hy4qOD",
    "outputId": "59479164-6510-457c-deb3-8c3425a01763"
   },
   "outputs": [
    {
     "data": {
      "text/html": [],
      "text/plain": [
       "<IPython.core.display.HTML object>"
      ]
     },
     "metadata": {
      "tags": []
     },
     "output_type": "display_data"
    },
    {
     "data": {
      "text/plain": [
       "[0.009698908]"
      ]
     },
     "execution_count": 80,
     "metadata": {
      "tags": []
     },
     "output_type": "execute_result"
    }
   ],
   "source": [
    "\n",
    "learn.validate()"
   ]
  },
  {
   "cell_type": "code",
   "execution_count": 21,
   "metadata": {
    "colab": {
     "base_uri": "https://localhost:8080/",
     "height": 129
    },
    "colab_type": "code",
    "id": "Bp-pwMKIc416",
    "outputId": "534eb5f5-f675-4cd5-ed10-c4331c6eaa86"
   },
   "outputs": [
    {
     "data": {
      "text/html": [
       "\n",
       "    <div>\n",
       "        <style>\n",
       "            /* Turns off some styling */\n",
       "            progress {\n",
       "                /* gets rid of default border in Firefox and Opera. */\n",
       "                border: none;\n",
       "                /* Needs to be in here for Safari polyfill so background images work as expected. */\n",
       "                background-size: auto;\n",
       "            }\n",
       "            .progress-bar-interrupted, .progress-bar-interrupted::-webkit-progress-bar {\n",
       "                background: #F44336;\n",
       "            }\n",
       "        </style>\n",
       "      <progress value='0' class='' max='1', style='width:300px; height:20px; vertical-align: middle;'></progress>\n",
       "      0.00% [0/1 00:00<00:00]\n",
       "    </div>\n",
       "    \n",
       "<table border=\"1\" class=\"dataframe\">\n",
       "  <thead>\n",
       "    <tr style=\"text-align: left;\">\n",
       "      <th>epoch</th>\n",
       "      <th>train_loss</th>\n",
       "      <th>valid_loss</th>\n",
       "      <th>time</th>\n",
       "    </tr>\n",
       "  </thead>\n",
       "  <tbody>\n",
       "  </tbody>\n",
       "</table><p>\n",
       "\n",
       "    <div>\n",
       "        <style>\n",
       "            /* Turns off some styling */\n",
       "            progress {\n",
       "                /* gets rid of default border in Firefox and Opera. */\n",
       "                border: none;\n",
       "                /* Needs to be in here for Safari polyfill so background images work as expected. */\n",
       "                background-size: auto;\n",
       "            }\n",
       "            .progress-bar-interrupted, .progress-bar-interrupted::-webkit-progress-bar {\n",
       "                background: #F44336;\n",
       "            }\n",
       "        </style>\n",
       "      <progress value='60' class='' max='110', style='width:300px; height:20px; vertical-align: middle;'></progress>\n",
       "      54.55% [60/110 00:01<00:01 0.0150]\n",
       "    </div>\n",
       "    "
      ],
      "text/plain": [
       "<IPython.core.display.HTML object>"
      ]
     },
     "metadata": {
      "tags": []
     },
     "output_type": "display_data"
    },
    {
     "name": "stdout",
     "output_type": "stream",
     "text": [
      "set state called\n",
      "LR Finder is complete, type {learner_name}.recorder.plot() to see the graph.\n"
     ]
    }
   ],
   "source": [
    "from fastai import train as tr\n",
    "tr.lr_find(learn)"
   ]
  },
  {
   "cell_type": "code",
   "execution_count": 22,
   "metadata": {
    "colab": {
     "base_uri": "https://localhost:8080/",
     "height": 279
    },
    "colab_type": "code",
    "id": "0ZkRCrSZc7uj",
    "outputId": "3675aecf-8970-455a-e962-4745e75eca86"
   },
   "outputs": [
    {
     "data": {
      "image/png": "[encoded data removed]",
      "text/plain": [
       "<Figure size 432x288 with 1 Axes>"
      ]
     },
     "metadata": {
      "tags": []
     },
     "output_type": "display_data"
    }
   ],
   "source": [
    "learn.recorder.plot()"
   ]
  },
  {
   "cell_type": "code",
   "execution_count": 0,
   "metadata": {
    "colab": {
     "base_uri": "https://localhost:8080/",
     "height": 359
    },
    "colab_type": "code",
    "id": "TlnZ41h9A-Ok",
    "outputId": "f429633e-1fb2-496c-a03b-a651920bed88"
   },
   "outputs": [
    {
     "data": {
      "text/html": [
       "<table border=\"1\" class=\"dataframe\">\n",
       "  <thead>\n",
       "    <tr style=\"text-align: left;\">\n",
       "      <th>epoch</th>\n",
       "      <th>train_loss</th>\n",
       "      <th>valid_loss</th>\n",
       "      <th>time</th>\n",
       "    </tr>\n",
       "  </thead>\n",
       "  <tbody>\n",
       "    <tr>\n",
       "      <td>0</td>\n",
       "      <td>0.010037</td>\n",
       "      <td>0.011603</td>\n",
       "      <td>00:02</td>\n",
       "    </tr>\n",
       "    <tr>\n",
       "      <td>1</td>\n",
       "      <td>0.010396</td>\n",
       "      <td>0.010596</td>\n",
       "      <td>00:02</td>\n",
       "    </tr>\n",
       "    <tr>\n",
       "      <td>2</td>\n",
       "      <td>0.010789</td>\n",
       "      <td>0.010555</td>\n",
       "      <td>00:02</td>\n",
       "    </tr>\n",
       "    <tr>\n",
       "      <td>3</td>\n",
       "      <td>0.010990</td>\n",
       "      <td>0.011368</td>\n",
       "      <td>00:02</td>\n",
       "    </tr>\n",
       "    <tr>\n",
       "      <td>4</td>\n",
       "      <td>0.011300</td>\n",
       "      <td>0.016433</td>\n",
       "      <td>00:02</td>\n",
       "    </tr>\n",
       "    <tr>\n",
       "      <td>5</td>\n",
       "      <td>0.011251</td>\n",
       "      <td>0.010830</td>\n",
       "      <td>00:02</td>\n",
       "    </tr>\n",
       "    <tr>\n",
       "      <td>6</td>\n",
       "      <td>0.011341</td>\n",
       "      <td>0.016716</td>\n",
       "      <td>00:02</td>\n",
       "    </tr>\n",
       "    <tr>\n",
       "      <td>7</td>\n",
       "      <td>0.011417</td>\n",
       "      <td>0.011460</td>\n",
       "      <td>00:02</td>\n",
       "    </tr>\n",
       "    <tr>\n",
       "      <td>8</td>\n",
       "      <td>0.010986</td>\n",
       "      <td>0.011478</td>\n",
       "      <td>00:02</td>\n",
       "    </tr>\n",
       "    <tr>\n",
       "      <td>9</td>\n",
       "      <td>0.011060</td>\n",
       "      <td>0.012813</td>\n",
       "      <td>00:02</td>\n",
       "    </tr>\n",
       "  </tbody>\n",
       "</table>"
      ],
      "text/plain": [
       "<IPython.core.display.HTML object>"
      ]
     },
     "metadata": {
      "tags": []
     },
     "output_type": "display_data"
    }
   ],
   "source": [
    "lr = 1e-3\n",
    "learn.fit(10, lr=lr, wd=wd)"
   ]
  },
  {
   "cell_type": "code",
   "execution_count": 0,
   "metadata": {
    "colab": {
     "base_uri": "https://localhost:8080/",
     "height": 281
    },
    "colab_type": "code",
    "id": "uInONlg9YVgv",
    "outputId": "77ab4d06-1f4a-4761-fa29-d3018311287e"
   },
   "outputs": [
    {
     "data": {
      "image/png": "[encoded data removed]",
      "text/plain": [
       "<Figure size 432x288 with 1 Axes>"
      ]
     },
     "metadata": {
      "tags": []
     },
     "output_type": "display_data"
    }
   ],
   "source": [
    "learn.recorder.plot_losses()\n",
    "plt.yscale('log')"
   ]
  },
  {
   "cell_type": "code",
   "execution_count": 23,
   "metadata": {
    "colab": {
     "base_uri": "https://localhost:8080/",
     "height": 1000
    },
    "colab_type": "code",
    "id": "es8NGOJrbd-S",
    "outputId": "b7f9c72d-2614-494d-d252-9049bffcb378"
   },
   "outputs": [
    {
     "data": {
      "text/html": [
       "\n",
       "    <div>\n",
       "        <style>\n",
       "            /* Turns off some styling */\n",
       "            progress {\n",
       "                /* gets rid of default border in Firefox and Opera. */\n",
       "                border: none;\n",
       "                /* Needs to be in here for Safari polyfill so background images work as expected. */\n",
       "                background-size: auto;\n",
       "            }\n",
       "            .progress-bar-interrupted, .progress-bar-interrupted::-webkit-progress-bar {\n",
       "                background: #F44336;\n",
       "            }\n",
       "        </style>\n",
       "      <progress value='71' class='' max='100', style='width:300px; height:20px; vertical-align: middle;'></progress>\n",
       "      71.00% [71/100 03:04<01:15]\n",
       "    </div>\n",
       "    \n",
       "<table border=\"1\" class=\"dataframe\">\n",
       "  <thead>\n",
       "    <tr style=\"text-align: left;\">\n",
       "      <th>epoch</th>\n",
       "      <th>train_loss</th>\n",
       "      <th>valid_loss</th>\n",
       "      <th>time</th>\n",
       "    </tr>\n",
       "  </thead>\n",
       "  <tbody>\n",
       "    <tr>\n",
       "      <td>0</td>\n",
       "      <td>0.009621</td>\n",
       "      <td>0.010114</td>\n",
       "      <td>00:02</td>\n",
       "    </tr>\n",
       "    <tr>\n",
       "      <td>1</td>\n",
       "      <td>0.009514</td>\n",
       "      <td>0.010195</td>\n",
       "      <td>00:02</td>\n",
       "    </tr>\n",
       "    <tr>\n",
       "      <td>2</td>\n",
       "      <td>0.009688</td>\n",
       "      <td>0.010262</td>\n",
       "      <td>00:02</td>\n",
       "    </tr>\n",
       "    <tr>\n",
       "      <td>3</td>\n",
       "      <td>0.009877</td>\n",
       "      <td>0.010268</td>\n",
       "      <td>00:02</td>\n",
       "    </tr>\n",
       "    <tr>\n",
       "      <td>4</td>\n",
       "      <td>0.009677</td>\n",
       "      <td>0.010304</td>\n",
       "      <td>00:02</td>\n",
       "    </tr>\n",
       "    <tr>\n",
       "      <td>5</td>\n",
       "      <td>0.009624</td>\n",
       "      <td>0.010079</td>\n",
       "      <td>00:02</td>\n",
       "    </tr>\n",
       "    <tr>\n",
       "      <td>6</td>\n",
       "      <td>0.009651</td>\n",
       "      <td>0.010236</td>\n",
       "      <td>00:02</td>\n",
       "    </tr>\n",
       "    <tr>\n",
       "      <td>7</td>\n",
       "      <td>0.009508</td>\n",
       "      <td>0.010365</td>\n",
       "      <td>00:02</td>\n",
       "    </tr>\n",
       "    <tr>\n",
       "      <td>8</td>\n",
       "      <td>0.009827</td>\n",
       "      <td>0.010223</td>\n",
       "      <td>00:02</td>\n",
       "    </tr>\n",
       "    <tr>\n",
       "      <td>9</td>\n",
       "      <td>0.009573</td>\n",
       "      <td>0.010134</td>\n",
       "      <td>00:02</td>\n",
       "    </tr>\n",
       "    <tr>\n",
       "      <td>10</td>\n",
       "      <td>0.009703</td>\n",
       "      <td>0.010184</td>\n",
       "      <td>00:02</td>\n",
       "    </tr>\n",
       "    <tr>\n",
       "      <td>11</td>\n",
       "      <td>0.009668</td>\n",
       "      <td>0.010075</td>\n",
       "      <td>00:02</td>\n",
       "    </tr>\n",
       "    <tr>\n",
       "      <td>12</td>\n",
       "      <td>0.009816</td>\n",
       "      <td>0.010297</td>\n",
       "      <td>00:02</td>\n",
       "    </tr>\n",
       "    <tr>\n",
       "      <td>13</td>\n",
       "      <td>0.009686</td>\n",
       "      <td>0.010345</td>\n",
       "      <td>00:02</td>\n",
       "    </tr>\n",
       "    <tr>\n",
       "      <td>14</td>\n",
       "      <td>0.009752</td>\n",
       "      <td>0.010245</td>\n",
       "      <td>00:02</td>\n",
       "    </tr>\n",
       "    <tr>\n",
       "      <td>15</td>\n",
       "      <td>0.009720</td>\n",
       "      <td>0.010401</td>\n",
       "      <td>00:02</td>\n",
       "    </tr>\n",
       "    <tr>\n",
       "      <td>16</td>\n",
       "      <td>0.009576</td>\n",
       "      <td>0.010154</td>\n",
       "      <td>00:02</td>\n",
       "    </tr>\n",
       "    <tr>\n",
       "      <td>17</td>\n",
       "      <td>0.009664</td>\n",
       "      <td>0.009943</td>\n",
       "      <td>00:02</td>\n",
       "    </tr>\n",
       "    <tr>\n",
       "      <td>18</td>\n",
       "      <td>0.009649</td>\n",
       "      <td>0.010513</td>\n",
       "      <td>00:02</td>\n",
       "    </tr>\n",
       "    <tr>\n",
       "      <td>19</td>\n",
       "      <td>0.009938</td>\n",
       "      <td>0.010510</td>\n",
       "      <td>00:02</td>\n",
       "    </tr>\n",
       "    <tr>\n",
       "      <td>20</td>\n",
       "      <td>0.009851</td>\n",
       "      <td>0.010004</td>\n",
       "      <td>00:02</td>\n",
       "    </tr>\n",
       "    <tr>\n",
       "      <td>21</td>\n",
       "      <td>0.009731</td>\n",
       "      <td>0.010040</td>\n",
       "      <td>00:02</td>\n",
       "    </tr>\n",
       "    <tr>\n",
       "      <td>22</td>\n",
       "      <td>0.009510</td>\n",
       "      <td>0.010142</td>\n",
       "      <td>00:02</td>\n",
       "    </tr>\n",
       "    <tr>\n",
       "      <td>23</td>\n",
       "      <td>0.009632</td>\n",
       "      <td>0.010119</td>\n",
       "      <td>00:02</td>\n",
       "    </tr>\n",
       "    <tr>\n",
       "      <td>24</td>\n",
       "      <td>0.009733</td>\n",
       "      <td>0.010372</td>\n",
       "      <td>00:02</td>\n",
       "    </tr>\n",
       "    <tr>\n",
       "      <td>25</td>\n",
       "      <td>0.009737</td>\n",
       "      <td>0.010268</td>\n",
       "      <td>00:02</td>\n",
       "    </tr>\n",
       "    <tr>\n",
       "      <td>26</td>\n",
       "      <td>0.009555</td>\n",
       "      <td>0.010045</td>\n",
       "      <td>00:02</td>\n",
       "    </tr>\n",
       "    <tr>\n",
       "      <td>27</td>\n",
       "      <td>0.009710</td>\n",
       "      <td>0.010238</td>\n",
       "      <td>00:02</td>\n",
       "    </tr>\n",
       "    <tr>\n",
       "      <td>28</td>\n",
       "      <td>0.009697</td>\n",
       "      <td>0.010038</td>\n",
       "      <td>00:02</td>\n",
       "    </tr>\n",
       "    <tr>\n",
       "      <td>29</td>\n",
       "      <td>0.009661</td>\n",
       "      <td>0.009970</td>\n",
       "      <td>00:02</td>\n",
       "    </tr>\n",
       "    <tr>\n",
       "      <td>30</td>\n",
       "      <td>0.009572</td>\n",
       "      <td>0.010261</td>\n",
       "      <td>00:02</td>\n",
       "    </tr>\n",
       "    <tr>\n",
       "      <td>31</td>\n",
       "      <td>0.009705</td>\n",
       "      <td>0.010258</td>\n",
       "      <td>00:02</td>\n",
       "    </tr>\n",
       "    <tr>\n",
       "      <td>32</td>\n",
       "      <td>0.009706</td>\n",
       "      <td>0.010098</td>\n",
       "      <td>00:02</td>\n",
       "    </tr>\n",
       "    <tr>\n",
       "      <td>33</td>\n",
       "      <td>0.009724</td>\n",
       "      <td>0.010020</td>\n",
       "      <td>00:02</td>\n",
       "    </tr>\n",
       "    <tr>\n",
       "      <td>34</td>\n",
       "      <td>0.009648</td>\n",
       "      <td>0.010016</td>\n",
       "      <td>00:02</td>\n",
       "    </tr>\n",
       "    <tr>\n",
       "      <td>35</td>\n",
       "      <td>0.009560</td>\n",
       "      <td>0.010017</td>\n",
       "      <td>00:02</td>\n",
       "    </tr>\n",
       "    <tr>\n",
       "      <td>36</td>\n",
       "      <td>0.009653</td>\n",
       "      <td>0.010086</td>\n",
       "      <td>00:02</td>\n",
       "    </tr>\n",
       "    <tr>\n",
       "      <td>37</td>\n",
       "      <td>0.009928</td>\n",
       "      <td>0.011905</td>\n",
       "      <td>00:02</td>\n",
       "    </tr>\n",
       "    <tr>\n",
       "      <td>38</td>\n",
       "      <td>0.009731</td>\n",
       "      <td>0.010249</td>\n",
       "      <td>00:02</td>\n",
       "    </tr>\n",
       "    <tr>\n",
       "      <td>39</td>\n",
       "      <td>0.009679</td>\n",
       "      <td>0.010275</td>\n",
       "      <td>00:02</td>\n",
       "    </tr>\n",
       "    <tr>\n",
       "      <td>40</td>\n",
       "      <td>0.009665</td>\n",
       "      <td>0.010070</td>\n",
       "      <td>00:02</td>\n",
       "    </tr>\n",
       "    <tr>\n",
       "      <td>41</td>\n",
       "      <td>0.009597</td>\n",
       "      <td>0.009856</td>\n",
       "      <td>00:02</td>\n",
       "    </tr>\n",
       "    <tr>\n",
       "      <td>42</td>\n",
       "      <td>0.009468</td>\n",
       "      <td>0.010074</td>\n",
       "      <td>00:02</td>\n",
       "    </tr>\n",
       "    <tr>\n",
       "      <td>43</td>\n",
       "      <td>0.009566</td>\n",
       "      <td>0.010883</td>\n",
       "      <td>00:02</td>\n",
       "    </tr>\n",
       "    <tr>\n",
       "      <td>44</td>\n",
       "      <td>0.009708</td>\n",
       "      <td>0.010143</td>\n",
       "      <td>00:02</td>\n",
       "    </tr>\n",
       "    <tr>\n",
       "      <td>45</td>\n",
       "      <td>0.009751</td>\n",
       "      <td>0.011158</td>\n",
       "      <td>00:02</td>\n",
       "    </tr>\n",
       "    <tr>\n",
       "      <td>46</td>\n",
       "      <td>0.009507</td>\n",
       "      <td>0.010039</td>\n",
       "      <td>00:02</td>\n",
       "    </tr>\n",
       "    <tr>\n",
       "      <td>47</td>\n",
       "      <td>0.009460</td>\n",
       "      <td>0.009767</td>\n",
       "      <td>00:02</td>\n",
       "    </tr>\n",
       "    <tr>\n",
       "      <td>48</td>\n",
       "      <td>0.009617</td>\n",
       "      <td>0.010196</td>\n",
       "      <td>00:02</td>\n",
       "    </tr>\n",
       "    <tr>\n",
       "      <td>49</td>\n",
       "      <td>0.009446</td>\n",
       "      <td>0.010112</td>\n",
       "      <td>00:02</td>\n",
       "    </tr>\n",
       "    <tr>\n",
       "      <td>50</td>\n",
       "      <td>0.009519</td>\n",
       "      <td>0.009889</td>\n",
       "      <td>00:02</td>\n",
       "    </tr>\n",
       "    <tr>\n",
       "      <td>51</td>\n",
       "      <td>0.009418</td>\n",
       "      <td>0.010023</td>\n",
       "      <td>00:02</td>\n",
       "    </tr>\n",
       "    <tr>\n",
       "      <td>52</td>\n",
       "      <td>0.009443</td>\n",
       "      <td>0.009811</td>\n",
       "      <td>00:02</td>\n",
       "    </tr>\n",
       "    <tr>\n",
       "      <td>53</td>\n",
       "      <td>0.009560</td>\n",
       "      <td>0.010100</td>\n",
       "      <td>00:02</td>\n",
       "    </tr>\n",
       "    <tr>\n",
       "      <td>54</td>\n",
       "      <td>0.009473</td>\n",
       "      <td>0.009957</td>\n",
       "      <td>00:02</td>\n",
       "    </tr>\n",
       "    <tr>\n",
       "      <td>55</td>\n",
       "      <td>0.009588</td>\n",
       "      <td>0.009957</td>\n",
       "      <td>00:02</td>\n",
       "    </tr>\n",
       "    <tr>\n",
       "      <td>56</td>\n",
       "      <td>0.009462</td>\n",
       "      <td>0.009881</td>\n",
       "      <td>00:02</td>\n",
       "    </tr>\n",
       "    <tr>\n",
       "      <td>57</td>\n",
       "      <td>0.009385</td>\n",
       "      <td>0.009824</td>\n",
       "      <td>00:02</td>\n",
       "    </tr>\n",
       "    <tr>\n",
       "      <td>58</td>\n",
       "      <td>0.009578</td>\n",
       "      <td>0.009934</td>\n",
       "      <td>00:02</td>\n",
       "    </tr>\n",
       "    <tr>\n",
       "      <td>59</td>\n",
       "      <td>0.009462</td>\n",
       "      <td>0.010129</td>\n",
       "      <td>00:02</td>\n",
       "    </tr>\n",
       "    <tr>\n",
       "      <td>60</td>\n",
       "      <td>0.009481</td>\n",
       "      <td>0.010306</td>\n",
       "      <td>00:02</td>\n",
       "    </tr>\n",
       "    <tr>\n",
       "      <td>61</td>\n",
       "      <td>0.009446</td>\n",
       "      <td>0.010220</td>\n",
       "      <td>00:02</td>\n",
       "    </tr>\n",
       "    <tr>\n",
       "      <td>62</td>\n",
       "      <td>0.009225</td>\n",
       "      <td>0.009772</td>\n",
       "      <td>00:02</td>\n",
       "    </tr>\n",
       "    <tr>\n",
       "      <td>63</td>\n",
       "      <td>0.009406</td>\n",
       "      <td>0.009923</td>\n",
       "      <td>00:02</td>\n",
       "    </tr>\n",
       "    <tr>\n",
       "      <td>64</td>\n",
       "      <td>0.009315</td>\n",
       "      <td>0.009911</td>\n",
       "      <td>00:02</td>\n",
       "    </tr>\n",
       "    <tr>\n",
       "      <td>65</td>\n",
       "      <td>0.009553</td>\n",
       "      <td>0.009929</td>\n",
       "      <td>00:02</td>\n",
       "    </tr>\n",
       "    <tr>\n",
       "      <td>66</td>\n",
       "      <td>0.009522</td>\n",
       "      <td>0.010071</td>\n",
       "      <td>00:02</td>\n",
       "    </tr>\n",
       "    <tr>\n",
       "      <td>67</td>\n",
       "      <td>0.009329</td>\n",
       "      <td>0.009804</td>\n",
       "      <td>00:02</td>\n",
       "    </tr>\n",
       "    <tr>\n",
       "      <td>68</td>\n",
       "      <td>0.009276</td>\n",
       "      <td>0.009795</td>\n",
       "      <td>00:02</td>\n",
       "    </tr>\n",
       "    <tr>\n",
       "      <td>69</td>\n",
       "      <td>0.009442</td>\n",
       "      <td>0.009916</td>\n",
       "      <td>00:02</td>\n",
       "    </tr>\n",
       "    <tr>\n",
       "      <td>70</td>\n",
       "      <td>0.009340</td>\n",
       "      <td>0.009960</td>\n",
       "      <td>00:02</td>\n",
       "    </tr>\n",
       "  </tbody>\n",
       "</table><p>\n",
       "\n",
       "    <div>\n",
       "        <style>\n",
       "            /* Turns off some styling */\n",
       "            progress {\n",
       "                /* gets rid of default border in Firefox and Opera. */\n",
       "                border: none;\n",
       "                /* Needs to be in here for Safari polyfill so background images work as expected. */\n",
       "                background-size: auto;\n",
       "            }\n",
       "            .progress-bar-interrupted, .progress-bar-interrupted::-webkit-progress-bar {\n",
       "                background: #F44336;\n",
       "            }\n",
       "        </style>\n",
       "      <progress value='48' class='' max='110', style='width:300px; height:20px; vertical-align: middle;'></progress>\n",
       "      43.64% [48/110 00:00<00:01 0.0093]\n",
       "    </div>\n",
       "    "
      ],
      "text/plain": [
       "<IPython.core.display.HTML object>"
      ]
     },
     "metadata": {
      "tags": []
     },
     "output_type": "display_data"
    },
    {
     "ename": "KeyboardInterrupt",
     "evalue": "ignored",
     "output_type": "error",
     "traceback": [
      "\u001b[0;31m---------------------------------------------------------------------------\u001b[0m",
      "\u001b[0;31mKeyboardInterrupt\u001b[0m                         Traceback (most recent call last)",
      "\u001b[0;32m<ipython-input-23-d36701948bbc>\u001b[0m in \u001b[0;36m<module>\u001b[0;34m()\u001b[0m\n\u001b[1;32m      1\u001b[0m \u001b[0mlr\u001b[0m \u001b[0;34m=\u001b[0m \u001b[0;36m1e-4\u001b[0m\u001b[0;34m\u001b[0m\u001b[0;34m\u001b[0m\u001b[0m\n\u001b[0;32m----> 2\u001b[0;31m \u001b[0mlearn\u001b[0m\u001b[0;34m.\u001b[0m\u001b[0mfit\u001b[0m\u001b[0;34m(\u001b[0m\u001b[0;36m100\u001b[0m\u001b[0;34m,\u001b[0m \u001b[0mlr\u001b[0m\u001b[0;34m=\u001b[0m\u001b[0mlr\u001b[0m\u001b[0;34m,\u001b[0m \u001b[0mwd\u001b[0m\u001b[0;34m=\u001b[0m\u001b[0mwd\u001b[0m\u001b[0;34m)\u001b[0m\u001b[0;34m\u001b[0m\u001b[0;34m\u001b[0m\u001b[0m\n\u001b[0m",
      "\u001b[0;32m/usr/local/lib/python3.6/dist-packages/fastai/basic_train.py\u001b[0m in \u001b[0;36mfit\u001b[0;34m(self, epochs, lr, wd, callbacks)\u001b[0m\n\u001b[1;32m    198\u001b[0m         \u001b[0;32melse\u001b[0m\u001b[0;34m:\u001b[0m \u001b[0mself\u001b[0m\u001b[0;34m.\u001b[0m\u001b[0mopt\u001b[0m\u001b[0;34m.\u001b[0m\u001b[0mlr\u001b[0m\u001b[0;34m,\u001b[0m\u001b[0mself\u001b[0m\u001b[0;34m.\u001b[0m\u001b[0mopt\u001b[0m\u001b[0;34m.\u001b[0m\u001b[0mwd\u001b[0m \u001b[0;34m=\u001b[0m \u001b[0mlr\u001b[0m\u001b[0;34m,\u001b[0m\u001b[0mwd\u001b[0m\u001b[0;34m\u001b[0m\u001b[0;34m\u001b[0m\u001b[0m\n\u001b[1;32m    199\u001b[0m         \u001b[0mcallbacks\u001b[0m \u001b[0;34m=\u001b[0m \u001b[0;34m[\u001b[0m\u001b[0mcb\u001b[0m\u001b[0;34m(\u001b[0m\u001b[0mself\u001b[0m\u001b[0;34m)\u001b[0m \u001b[0;32mfor\u001b[0m \u001b[0mcb\u001b[0m \u001b[0;32min\u001b[0m \u001b[0mself\u001b[0m\u001b[0;34m.\u001b[0m\u001b[0mcallback_fns\u001b[0m \u001b[0;34m+\u001b[0m \u001b[0mlistify\u001b[0m\u001b[0;34m(\u001b[0m\u001b[0mdefaults\u001b[0m\u001b[0;34m.\u001b[0m\u001b[0mextra_callback_fns\u001b[0m\u001b[0;34m)\u001b[0m\u001b[0;34m]\u001b[0m \u001b[0;34m+\u001b[0m \u001b[0mlistify\u001b[0m\u001b[0;34m(\u001b[0m\u001b[0mcallbacks\u001b[0m\u001b[0;34m)\u001b[0m\u001b[0;34m\u001b[0m\u001b[0;34m\u001b[0m\u001b[0m\n\u001b[0;32m--> 200\u001b[0;31m         \u001b[0mfit\u001b[0m\u001b[0;34m(\u001b[0m\u001b[0mepochs\u001b[0m\u001b[0;34m,\u001b[0m \u001b[0mself\u001b[0m\u001b[0;34m,\u001b[0m \u001b[0mmetrics\u001b[0m\u001b[0;34m=\u001b[0m\u001b[0mself\u001b[0m\u001b[0;34m.\u001b[0m\u001b[0mmetrics\u001b[0m\u001b[0;34m,\u001b[0m \u001b[0mcallbacks\u001b[0m\u001b[0;34m=\u001b[0m\u001b[0mself\u001b[0m\u001b[0;34m.\u001b[0m\u001b[0mcallbacks\u001b[0m\u001b[0;34m+\u001b[0m\u001b[0mcallbacks\u001b[0m\u001b[0;34m)\u001b[0m\u001b[0;34m\u001b[0m\u001b[0;34m\u001b[0m\u001b[0m\n\u001b[0m\u001b[1;32m    201\u001b[0m \u001b[0;34m\u001b[0m\u001b[0m\n\u001b[1;32m    202\u001b[0m     \u001b[0;32mdef\u001b[0m \u001b[0mcreate_opt\u001b[0m\u001b[0;34m(\u001b[0m\u001b[0mself\u001b[0m\u001b[0;34m,\u001b[0m \u001b[0mlr\u001b[0m\u001b[0;34m:\u001b[0m\u001b[0mFloats\u001b[0m\u001b[0;34m,\u001b[0m \u001b[0mwd\u001b[0m\u001b[0;34m:\u001b[0m\u001b[0mFloats\u001b[0m\u001b[0;34m=\u001b[0m\u001b[0;36m0.\u001b[0m\u001b[0;34m)\u001b[0m\u001b[0;34m->\u001b[0m\u001b[0;32mNone\u001b[0m\u001b[0;34m:\u001b[0m\u001b[0;34m\u001b[0m\u001b[0;34m\u001b[0m\u001b[0m\n",
      "\u001b[0;32m/usr/local/lib/python3.6/dist-packages/fastai/basic_train.py\u001b[0m in \u001b[0;36mfit\u001b[0;34m(epochs, learn, callbacks, metrics)\u001b[0m\n\u001b[1;32m     97\u001b[0m             \u001b[0mcb_handler\u001b[0m\u001b[0;34m.\u001b[0m\u001b[0mset_dl\u001b[0m\u001b[0;34m(\u001b[0m\u001b[0mlearn\u001b[0m\u001b[0;34m.\u001b[0m\u001b[0mdata\u001b[0m\u001b[0;34m.\u001b[0m\u001b[0mtrain_dl\u001b[0m\u001b[0;34m)\u001b[0m\u001b[0;34m\u001b[0m\u001b[0;34m\u001b[0m\u001b[0m\n\u001b[1;32m     98\u001b[0m             \u001b[0mcb_handler\u001b[0m\u001b[0;34m.\u001b[0m\u001b[0mon_epoch_begin\u001b[0m\u001b[0;34m(\u001b[0m\u001b[0;34m)\u001b[0m\u001b[0;34m\u001b[0m\u001b[0;34m\u001b[0m\u001b[0m\n\u001b[0;32m---> 99\u001b[0;31m             \u001b[0;32mfor\u001b[0m \u001b[0mxb\u001b[0m\u001b[0;34m,\u001b[0m\u001b[0myb\u001b[0m \u001b[0;32min\u001b[0m \u001b[0mprogress_bar\u001b[0m\u001b[0;34m(\u001b[0m\u001b[0mlearn\u001b[0m\u001b[0;34m.\u001b[0m\u001b[0mdata\u001b[0m\u001b[0;34m.\u001b[0m\u001b[0mtrain_dl\u001b[0m\u001b[0;34m,\u001b[0m \u001b[0mparent\u001b[0m\u001b[0;34m=\u001b[0m\u001b[0mpbar\u001b[0m\u001b[0;34m)\u001b[0m\u001b[0;34m:\u001b[0m\u001b[0;34m\u001b[0m\u001b[0;34m\u001b[0m\u001b[0m\n\u001b[0m\u001b[1;32m    100\u001b[0m                 \u001b[0mxb\u001b[0m\u001b[0;34m,\u001b[0m \u001b[0myb\u001b[0m \u001b[0;34m=\u001b[0m \u001b[0mcb_handler\u001b[0m\u001b[0;34m.\u001b[0m\u001b[0mon_batch_begin\u001b[0m\u001b[0;34m(\u001b[0m\u001b[0mxb\u001b[0m\u001b[0;34m,\u001b[0m \u001b[0myb\u001b[0m\u001b[0;34m)\u001b[0m\u001b[0;34m\u001b[0m\u001b[0;34m\u001b[0m\u001b[0m\n\u001b[1;32m    101\u001b[0m                 \u001b[0mloss\u001b[0m \u001b[0;34m=\u001b[0m \u001b[0mloss_batch\u001b[0m\u001b[0;34m(\u001b[0m\u001b[0mlearn\u001b[0m\u001b[0;34m.\u001b[0m\u001b[0mmodel\u001b[0m\u001b[0;34m,\u001b[0m \u001b[0mxb\u001b[0m\u001b[0;34m,\u001b[0m \u001b[0myb\u001b[0m\u001b[0;34m,\u001b[0m \u001b[0mlearn\u001b[0m\u001b[0;34m.\u001b[0m\u001b[0mloss_func\u001b[0m\u001b[0;34m,\u001b[0m \u001b[0mlearn\u001b[0m\u001b[0;34m.\u001b[0m\u001b[0mopt\u001b[0m\u001b[0;34m,\u001b[0m \u001b[0mcb_handler\u001b[0m\u001b[0;34m)\u001b[0m\u001b[0;34m\u001b[0m\u001b[0;34m\u001b[0m\u001b[0m\n",
      "\u001b[0;32m/usr/local/lib/python3.6/dist-packages/fastprogress/fastprogress.py\u001b[0m in \u001b[0;36m__iter__\u001b[0;34m(self)\u001b[0m\n\u001b[1;32m     39\u001b[0m         \u001b[0;32mif\u001b[0m \u001b[0mself\u001b[0m\u001b[0;34m.\u001b[0m\u001b[0mtotal\u001b[0m \u001b[0;34m!=\u001b[0m \u001b[0;36m0\u001b[0m\u001b[0;34m:\u001b[0m \u001b[0mself\u001b[0m\u001b[0;34m.\u001b[0m\u001b[0mupdate\u001b[0m\u001b[0;34m(\u001b[0m\u001b[0;36m0\u001b[0m\u001b[0;34m)\u001b[0m\u001b[0;34m\u001b[0m\u001b[0;34m\u001b[0m\u001b[0m\n\u001b[1;32m     40\u001b[0m         \u001b[0;32mtry\u001b[0m\u001b[0;34m:\u001b[0m\u001b[0;34m\u001b[0m\u001b[0;34m\u001b[0m\u001b[0m\n\u001b[0;32m---> 41\u001b[0;31m             \u001b[0;32mfor\u001b[0m \u001b[0mi\u001b[0m\u001b[0;34m,\u001b[0m\u001b[0mo\u001b[0m \u001b[0;32min\u001b[0m \u001b[0menumerate\u001b[0m\u001b[0;34m(\u001b[0m\u001b[0mself\u001b[0m\u001b[0;34m.\u001b[0m\u001b[0mgen\u001b[0m\u001b[0;34m)\u001b[0m\u001b[0;34m:\u001b[0m\u001b[0;34m\u001b[0m\u001b[0;34m\u001b[0m\u001b[0m\n\u001b[0m\u001b[1;32m     42\u001b[0m                 \u001b[0;32mif\u001b[0m \u001b[0mi\u001b[0m \u001b[0;34m>=\u001b[0m \u001b[0mself\u001b[0m\u001b[0;34m.\u001b[0m\u001b[0mtotal\u001b[0m\u001b[0;34m:\u001b[0m \u001b[0;32mbreak\u001b[0m\u001b[0;34m\u001b[0m\u001b[0;34m\u001b[0m\u001b[0m\n\u001b[1;32m     43\u001b[0m                 \u001b[0;32myield\u001b[0m \u001b[0mo\u001b[0m\u001b[0;34m\u001b[0m\u001b[0;34m\u001b[0m\u001b[0m\n",
      "\u001b[0;32m/usr/local/lib/python3.6/dist-packages/fastai/basic_data.py\u001b[0m in \u001b[0;36m__iter__\u001b[0;34m(self)\u001b[0m\n\u001b[1;32m     73\u001b[0m     \u001b[0;32mdef\u001b[0m \u001b[0m__iter__\u001b[0m\u001b[0;34m(\u001b[0m\u001b[0mself\u001b[0m\u001b[0;34m)\u001b[0m\u001b[0;34m:\u001b[0m\u001b[0;34m\u001b[0m\u001b[0;34m\u001b[0m\u001b[0m\n\u001b[1;32m     74\u001b[0m         \u001b[0;34m\"Process and returns items from `DataLoader`.\"\u001b[0m\u001b[0;34m\u001b[0m\u001b[0;34m\u001b[0m\u001b[0m\n\u001b[0;32m---> 75\u001b[0;31m         \u001b[0;32mfor\u001b[0m \u001b[0mb\u001b[0m \u001b[0;32min\u001b[0m \u001b[0mself\u001b[0m\u001b[0;34m.\u001b[0m\u001b[0mdl\u001b[0m\u001b[0;34m:\u001b[0m \u001b[0;32myield\u001b[0m \u001b[0mself\u001b[0m\u001b[0;34m.\u001b[0m\u001b[0mproc_batch\u001b[0m\u001b[0;34m(\u001b[0m\u001b[0mb\u001b[0m\u001b[0;34m)\u001b[0m\u001b[0;34m\u001b[0m\u001b[0;34m\u001b[0m\u001b[0m\n\u001b[0m\u001b[1;32m     76\u001b[0m \u001b[0;34m\u001b[0m\u001b[0m\n\u001b[1;32m     77\u001b[0m     \u001b[0;34m@\u001b[0m\u001b[0mclassmethod\u001b[0m\u001b[0;34m\u001b[0m\u001b[0;34m\u001b[0m\u001b[0m\n",
      "\u001b[0;32m/usr/local/lib/python3.6/dist-packages/torch/utils/data/dataloader.py\u001b[0m in \u001b[0;36m__next__\u001b[0;34m(self)\u001b[0m\n\u001b[1;32m    343\u001b[0m \u001b[0;34m\u001b[0m\u001b[0m\n\u001b[1;32m    344\u001b[0m     \u001b[0;32mdef\u001b[0m \u001b[0m__next__\u001b[0m\u001b[0;34m(\u001b[0m\u001b[0mself\u001b[0m\u001b[0;34m)\u001b[0m\u001b[0;34m:\u001b[0m\u001b[0;34m\u001b[0m\u001b[0;34m\u001b[0m\u001b[0m\n\u001b[0;32m--> 345\u001b[0;31m         \u001b[0mdata\u001b[0m \u001b[0;34m=\u001b[0m \u001b[0mself\u001b[0m\u001b[0;34m.\u001b[0m\u001b[0m_next_data\u001b[0m\u001b[0;34m(\u001b[0m\u001b[0;34m)\u001b[0m\u001b[0;34m\u001b[0m\u001b[0;34m\u001b[0m\u001b[0m\n\u001b[0m\u001b[1;32m    346\u001b[0m         \u001b[0mself\u001b[0m\u001b[0;34m.\u001b[0m\u001b[0m_num_yielded\u001b[0m \u001b[0;34m+=\u001b[0m \u001b[0;36m1\u001b[0m\u001b[0;34m\u001b[0m\u001b[0;34m\u001b[0m\u001b[0m\n\u001b[1;32m    347\u001b[0m         \u001b[0;32mif\u001b[0m \u001b[0mself\u001b[0m\u001b[0;34m.\u001b[0m\u001b[0m_dataset_kind\u001b[0m \u001b[0;34m==\u001b[0m \u001b[0m_DatasetKind\u001b[0m\u001b[0;34m.\u001b[0m\u001b[0mIterable\u001b[0m \u001b[0;32mand\u001b[0m\u001b[0;31m \u001b[0m\u001b[0;31m\\\u001b[0m\u001b[0;34m\u001b[0m\u001b[0;34m\u001b[0m\u001b[0m\n",
      "\u001b[0;32m/usr/local/lib/python3.6/dist-packages/torch/utils/data/dataloader.py\u001b[0m in \u001b[0;36m_next_data\u001b[0;34m(self)\u001b[0m\n\u001b[1;32m    383\u001b[0m     \u001b[0;32mdef\u001b[0m \u001b[0m_next_data\u001b[0m\u001b[0;34m(\u001b[0m\u001b[0mself\u001b[0m\u001b[0;34m)\u001b[0m\u001b[0;34m:\u001b[0m\u001b[0;34m\u001b[0m\u001b[0;34m\u001b[0m\u001b[0m\n\u001b[1;32m    384\u001b[0m         \u001b[0mindex\u001b[0m \u001b[0;34m=\u001b[0m \u001b[0mself\u001b[0m\u001b[0;34m.\u001b[0m\u001b[0m_next_index\u001b[0m\u001b[0;34m(\u001b[0m\u001b[0;34m)\u001b[0m  \u001b[0;31m# may raise StopIteration\u001b[0m\u001b[0;34m\u001b[0m\u001b[0;34m\u001b[0m\u001b[0m\n\u001b[0;32m--> 385\u001b[0;31m         \u001b[0mdata\u001b[0m \u001b[0;34m=\u001b[0m \u001b[0mself\u001b[0m\u001b[0;34m.\u001b[0m\u001b[0m_dataset_fetcher\u001b[0m\u001b[0;34m.\u001b[0m\u001b[0mfetch\u001b[0m\u001b[0;34m(\u001b[0m\u001b[0mindex\u001b[0m\u001b[0;34m)\u001b[0m  \u001b[0;31m# may raise StopIteration\u001b[0m\u001b[0;34m\u001b[0m\u001b[0;34m\u001b[0m\u001b[0m\n\u001b[0m\u001b[1;32m    386\u001b[0m         \u001b[0;32mif\u001b[0m \u001b[0mself\u001b[0m\u001b[0;34m.\u001b[0m\u001b[0m_pin_memory\u001b[0m\u001b[0;34m:\u001b[0m\u001b[0;34m\u001b[0m\u001b[0;34m\u001b[0m\u001b[0m\n\u001b[1;32m    387\u001b[0m             \u001b[0mdata\u001b[0m \u001b[0;34m=\u001b[0m \u001b[0m_utils\u001b[0m\u001b[0;34m.\u001b[0m\u001b[0mpin_memory\u001b[0m\u001b[0;34m.\u001b[0m\u001b[0mpin_memory\u001b[0m\u001b[0;34m(\u001b[0m\u001b[0mdata\u001b[0m\u001b[0;34m)\u001b[0m\u001b[0;34m\u001b[0m\u001b[0;34m\u001b[0m\u001b[0m\n",
      "\u001b[0;31mKeyboardInterrupt\u001b[0m: "
     ]
    }
   ],
   "source": [
    "lr = 1e-4\n",
    "learn.fit(100, lr=lr, wd=wd)"
   ]
  },
  {
   "cell_type": "code",
   "execution_count": 25,
   "metadata": {
    "colab": {
     "base_uri": "https://localhost:8080/",
     "height": 281
    },
    "colab_type": "code",
    "id": "UoA-5SrhEfAy",
    "outputId": "474fcaa9-8ea6-4130-8693-48231f2f4b6c"
   },
   "outputs": [
    {
     "data": {
      "image/png": "[encoded data removed]",
      "text/plain": [
       "<Figure size 432x288 with 1 Axes>"
      ]
     },
     "metadata": {
      "tags": []
     },
     "output_type": "display_data"
    }
   ],
   "source": [
    "learn.recorder.plot_losses()\n",
    "plt.yscale('log')"
   ]
  },
  {
   "cell_type": "code",
   "execution_count": 102,
   "metadata": {
    "colab": {
     "base_uri": "https://localhost:8080/",
     "height": 979
    },
    "colab_type": "code",
    "id": "pEXKSeD6h1D6",
    "outputId": "d5ae2e90-753b-4130-ed36-787e4db807af"
   },
   "outputs": [
    {
     "data": {
      "text/html": [
       "<table border=\"1\" class=\"dataframe\">\n",
       "  <thead>\n",
       "    <tr style=\"text-align: left;\">\n",
       "      <th>epoch</th>\n",
       "      <th>train_loss</th>\n",
       "      <th>valid_loss</th>\n",
       "      <th>time</th>\n",
       "    </tr>\n",
       "  </thead>\n",
       "  <tbody>\n",
       "    <tr>\n",
       "      <td>0</td>\n",
       "      <td>0.009144</td>\n",
       "      <td>0.009699</td>\n",
       "      <td>00:03</td>\n",
       "    </tr>\n",
       "    <tr>\n",
       "      <td>1</td>\n",
       "      <td>0.009108</td>\n",
       "      <td>0.009699</td>\n",
       "      <td>00:03</td>\n",
       "    </tr>\n",
       "    <tr>\n",
       "      <td>2</td>\n",
       "      <td>0.009160</td>\n",
       "      <td>0.009699</td>\n",
       "      <td>00:03</td>\n",
       "    </tr>\n",
       "    <tr>\n",
       "      <td>3</td>\n",
       "      <td>0.009130</td>\n",
       "      <td>0.009699</td>\n",
       "      <td>00:03</td>\n",
       "    </tr>\n",
       "    <tr>\n",
       "      <td>4</td>\n",
       "      <td>0.009232</td>\n",
       "      <td>0.009699</td>\n",
       "      <td>00:03</td>\n",
       "    </tr>\n",
       "    <tr>\n",
       "      <td>5</td>\n",
       "      <td>0.009045</td>\n",
       "      <td>0.009699</td>\n",
       "      <td>00:03</td>\n",
       "    </tr>\n",
       "    <tr>\n",
       "      <td>6</td>\n",
       "      <td>0.008916</td>\n",
       "      <td>0.009699</td>\n",
       "      <td>00:03</td>\n",
       "    </tr>\n",
       "    <tr>\n",
       "      <td>7</td>\n",
       "      <td>0.009175</td>\n",
       "      <td>0.009699</td>\n",
       "      <td>00:03</td>\n",
       "    </tr>\n",
       "    <tr>\n",
       "      <td>8</td>\n",
       "      <td>0.008961</td>\n",
       "      <td>0.009699</td>\n",
       "      <td>00:03</td>\n",
       "    </tr>\n",
       "    <tr>\n",
       "      <td>9</td>\n",
       "      <td>0.009150</td>\n",
       "      <td>0.009699</td>\n",
       "      <td>00:03</td>\n",
       "    </tr>\n",
       "    <tr>\n",
       "      <td>10</td>\n",
       "      <td>0.009079</td>\n",
       "      <td>0.009699</td>\n",
       "      <td>00:03</td>\n",
       "    </tr>\n",
       "    <tr>\n",
       "      <td>11</td>\n",
       "      <td>0.009066</td>\n",
       "      <td>0.009699</td>\n",
       "      <td>00:03</td>\n",
       "    </tr>\n",
       "    <tr>\n",
       "      <td>12</td>\n",
       "      <td>0.009139</td>\n",
       "      <td>0.009699</td>\n",
       "      <td>00:03</td>\n",
       "    </tr>\n",
       "    <tr>\n",
       "      <td>13</td>\n",
       "      <td>0.009178</td>\n",
       "      <td>0.009699</td>\n",
       "      <td>00:03</td>\n",
       "    </tr>\n",
       "    <tr>\n",
       "      <td>14</td>\n",
       "      <td>0.009039</td>\n",
       "      <td>0.009699</td>\n",
       "      <td>00:03</td>\n",
       "    </tr>\n",
       "    <tr>\n",
       "      <td>15</td>\n",
       "      <td>0.009148</td>\n",
       "      <td>0.009699</td>\n",
       "      <td>00:03</td>\n",
       "    </tr>\n",
       "    <tr>\n",
       "      <td>16</td>\n",
       "      <td>0.009204</td>\n",
       "      <td>0.009699</td>\n",
       "      <td>00:03</td>\n",
       "    </tr>\n",
       "    <tr>\n",
       "      <td>17</td>\n",
       "      <td>0.009101</td>\n",
       "      <td>0.009699</td>\n",
       "      <td>00:03</td>\n",
       "    </tr>\n",
       "    <tr>\n",
       "      <td>18</td>\n",
       "      <td>0.009093</td>\n",
       "      <td>0.009699</td>\n",
       "      <td>00:03</td>\n",
       "    </tr>\n",
       "    <tr>\n",
       "      <td>19</td>\n",
       "      <td>0.009152</td>\n",
       "      <td>0.009699</td>\n",
       "      <td>00:03</td>\n",
       "    </tr>\n",
       "    <tr>\n",
       "      <td>20</td>\n",
       "      <td>0.009067</td>\n",
       "      <td>0.009699</td>\n",
       "      <td>00:03</td>\n",
       "    </tr>\n",
       "    <tr>\n",
       "      <td>21</td>\n",
       "      <td>0.009174</td>\n",
       "      <td>0.009699</td>\n",
       "      <td>00:03</td>\n",
       "    </tr>\n",
       "    <tr>\n",
       "      <td>22</td>\n",
       "      <td>0.009069</td>\n",
       "      <td>0.009699</td>\n",
       "      <td>00:03</td>\n",
       "    </tr>\n",
       "    <tr>\n",
       "      <td>23</td>\n",
       "      <td>0.009142</td>\n",
       "      <td>0.009699</td>\n",
       "      <td>00:03</td>\n",
       "    </tr>\n",
       "    <tr>\n",
       "      <td>24</td>\n",
       "      <td>0.009164</td>\n",
       "      <td>0.009699</td>\n",
       "      <td>00:03</td>\n",
       "    </tr>\n",
       "    <tr>\n",
       "      <td>25</td>\n",
       "      <td>0.009181</td>\n",
       "      <td>0.009699</td>\n",
       "      <td>00:03</td>\n",
       "    </tr>\n",
       "    <tr>\n",
       "      <td>26</td>\n",
       "      <td>0.009034</td>\n",
       "      <td>0.009699</td>\n",
       "      <td>00:03</td>\n",
       "    </tr>\n",
       "    <tr>\n",
       "      <td>27</td>\n",
       "      <td>0.009112</td>\n",
       "      <td>0.009699</td>\n",
       "      <td>00:03</td>\n",
       "    </tr>\n",
       "    <tr>\n",
       "      <td>28</td>\n",
       "      <td>0.009036</td>\n",
       "      <td>0.009699</td>\n",
       "      <td>00:03</td>\n",
       "    </tr>\n",
       "    <tr>\n",
       "      <td>29</td>\n",
       "      <td>0.009100</td>\n",
       "      <td>0.009699</td>\n",
       "      <td>00:03</td>\n",
       "    </tr>\n",
       "  </tbody>\n",
       "</table>"
      ],
      "text/plain": [
       "<IPython.core.display.HTML object>"
      ]
     },
     "metadata": {
      "tags": []
     },
     "output_type": "display_data"
    }
   ],
   "source": [
    "lr = 1e-8\n",
    "learn.fit(30, lr=lr)"
   ]
  },
  {
   "cell_type": "code",
   "execution_count": 27,
   "metadata": {
    "colab": {
     "base_uri": "https://localhost:8080/",
     "height": 279
    },
    "colab_type": "code",
    "id": "Q-6413ZziLt9",
    "outputId": "bb617ef1-c504-4b39-f05d-1e41c08886ca"
   },
   "outputs": [
    {
     "data": {
      "image/png": "[encoded data removed]",
      "text/plain": [
       "<Figure size 432x288 with 1 Axes>"
      ]
     },
     "metadata": {
      "tags": []
     },
     "output_type": "display_data"
    }
   ],
   "source": [
    "learn.recorder.plot_losses()\n",
    "plt.yscale('log')"
   ]
  },
  {
   "cell_type": "code",
   "execution_count": 109,
   "metadata": {
    "colab": {
     "base_uri": "https://localhost:8080/",
     "height": 1000
    },
    "colab_type": "code",
    "id": "lNIv9AF-BUIq",
    "outputId": "f7539aa0-b019-4c1d-ac76-126602a80d64"
   },
   "outputs": [
    {
     "data": {
      "image/png": "[encoded data removed]",
      "text/plain": [
       "<Figure size 432x288 with 1 Axes>"
      ]
     },
     "metadata": {
      "tags": []
     },
     "output_type": "display_data"
    },
    {
     "data": {
      "image/png": "[encoded data removed]",
      "text/plain": [
       "<Figure size 432x288 with 1 Axes>"
      ]
     },
     "metadata": {
      "tags": []
     },
     "output_type": "display_data"
    },
    {
     "data": {
      "image/png": "[encoded data removed]",
      "text/plain": [
       "<Figure size 432x288 with 1 Axes>"
      ]
     },
     "metadata": {
      "tags": []
     },
     "output_type": "display_data"
    },
    {
     "data": {
      "image/png": "[encoded data removed]",
      "text/plain": [
       "<Figure size 432x288 with 1 Axes>"
      ]
     },
     "metadata": {
      "tags": []
     },
     "output_type": "display_data"
    }
   ],
   "source": [
    "plt.clf()\n",
    "plt.close('all')\n",
    "unit_list = ['[GeV]', '[rad]', '[rad]', '[GeV]']\n",
    "variable_list = [r'$m$', r'$p_T$', r'$\\phi$', r'$\\eta$']\n",
    "line_style = ['--', '-']\n",
    "colors = ['orange', 'c']\n",
    "markers = ['*', 's']\n",
    "\n",
    "model.to('cpu')\n",
    "\n",
    "# Histograms\n",
    "idxs = (0, 100000)  # Choose events to compare\n",
    "data = torch.tensor(test_x[idxs[0]:].values).float()\n",
    "pred = model(data).detach().numpy()\n",
    "pred = np.multiply(pred, train_std.values)\n",
    "pred = np.add(pred, train_mean.values)\n",
    "data = np.multiply(data, train_std.values)\n",
    "data = np.add(data, train_mean.values)\n",
    "\n",
    "alph = 0.8\n",
    "n_bins = 50\n",
    "for kk in np.arange(4):\n",
    "    plt.figure(kk + 4)\n",
    "    n_hist_data, bin_edges, _ = plt.hist(data[:, kk], color=colors[1], label='Input', alpha=1, bins=n_bins)\n",
    "    n_hist_pred, _, _ = plt.hist(pred[:, kk], color=colors[0], label='Output', alpha=.8, bins=bin_edges)\n",
    "    plt.suptitle(train_x.columns[kk])\n",
    "    plt.xlabel(variable_list[kk] + ' ' + unit_list[kk])\n",
    "    plt.ylabel('Number of events')\n",
    "    \n",
    "    # plt.yscale('log')\n",
    "    plt.legend()\n",
    "    fig_name = 'trainforever_hist_%s' % train.columns[kk]\n",
    "    #plt.savefig(curr_save_folder + fig_name)\n"
   ]
  },
  {
   "cell_type": "code",
   "execution_count": 0,
   "metadata": {
    "colab": {},
    "colab_type": "code",
    "id": "CXq02x90odbq"
   },
   "outputs": [],
   "source": [
    "torch.save(model.state_dict(),\"/content/drive/My Drive/AE.pth\")"
   ]
  },
  {
   "cell_type": "code",
   "execution_count": 0,
   "metadata": {
    "colab": {},
    "colab_type": "code",
    "id": "NGLhNZRigr1j"
   },
   "outputs": [],
   "source": [
    "data = torch.tensor(test_x[0:].values).float()\n",
    "pred = model(data).detach().numpy()"
   ]
  },
  {
   "cell_type": "code",
   "execution_count": 50,
   "metadata": {
    "colab": {
     "base_uri": "https://localhost:8080/",
     "height": 170
    },
    "colab_type": "code",
    "id": "AG5oOT6Mgslb",
    "outputId": "96ee0c9a-3b13-4246-b4d7-a06de3e0e3c5"
   },
   "outputs": [
    {
     "data": {
      "text/plain": [
       "array([[-0.531053, -0.572877,  1.084166, -0.078668],\n",
       "       [-0.480317, -0.563204,  0.573814,  0.471673],\n",
       "       [-0.4898  , -0.568987, -0.62311 ,  0.533864],\n",
       "       [ 0.676679,  1.880558,  0.174711, -1.451397],\n",
       "       ...,\n",
       "       [-0.408771, -0.553371, -0.446851,  0.684093],\n",
       "       [-0.561992, -0.520445, -1.209194, -1.620633],\n",
       "       [-0.180794, -0.409691, -1.485495, -0.618433],\n",
       "       [ 0.024449, -0.141761, -1.127304,  0.3942  ]], dtype=float32)"
      ]
     },
     "execution_count": 50,
     "metadata": {
      "tags": []
     },
     "output_type": "execute_result"
    }
   ],
   "source": [
    "pred"
   ]
  },
  {
   "cell_type": "code",
   "execution_count": 0,
   "metadata": {
    "colab": {},
    "colab_type": "code",
    "id": "Zv0fHASrg0BW"
   },
   "outputs": [],
   "source": [
    "pred=pd.DataFrame(pred)"
   ]
  },
  {
   "cell_type": "code",
   "execution_count": 0,
   "metadata": {
    "colab": {},
    "colab_type": "code",
    "id": "Q3HuksOWltO7"
   },
   "outputs": [],
   "source": [
    "test_x.reset_index(inplace=True)\n",
    "train_x.reset_index(inplace=True)"
   ]
  },
  {
   "cell_type": "code",
   "execution_count": 90,
   "metadata": {
    "colab": {
     "base_uri": "https://localhost:8080/",
     "height": 204
    },
    "colab_type": "code",
    "id": "RFiNekv8rnDb",
    "outputId": "ed639e54-55aa-45d2-8632-a1f94e0557a9"
   },
   "outputs": [
    {
     "data": {
      "text/html": [
       "<div>\n",
       "<style scoped>\n",
       "    .dataframe tbody tr th:only-of-type {\n",
       "        vertical-align: middle;\n",
       "    }\n",
       "\n",
       "    .dataframe tbody tr th {\n",
       "        vertical-align: top;\n",
       "    }\n",
       "\n",
       "    .dataframe thead th {\n",
       "        text-align: right;\n",
       "    }\n",
       "</style>\n",
       "<table border=\"1\" class=\"dataframe\">\n",
       "  <thead>\n",
       "    <tr style=\"text-align: right;\">\n",
       "      <th></th>\n",
       "      <th>index</th>\n",
       "      <th>m</th>\n",
       "      <th>pt</th>\n",
       "      <th>phi</th>\n",
       "      <th>eta</th>\n",
       "    </tr>\n",
       "  </thead>\n",
       "  <tbody>\n",
       "    <tr>\n",
       "      <th>0</th>\n",
       "      <td>85972</td>\n",
       "      <td>-0.533282</td>\n",
       "      <td>-0.581905</td>\n",
       "      <td>1.087244</td>\n",
       "      <td>-0.071133</td>\n",
       "    </tr>\n",
       "    <tr>\n",
       "      <th>1</th>\n",
       "      <td>38742</td>\n",
       "      <td>-0.472437</td>\n",
       "      <td>-0.609328</td>\n",
       "      <td>0.573286</td>\n",
       "      <td>0.476957</td>\n",
       "    </tr>\n",
       "    <tr>\n",
       "      <th>2</th>\n",
       "      <td>128711</td>\n",
       "      <td>-0.498829</td>\n",
       "      <td>-0.570312</td>\n",
       "      <td>-0.622658</td>\n",
       "      <td>0.542203</td>\n",
       "    </tr>\n",
       "    <tr>\n",
       "      <th>3</th>\n",
       "      <td>28751</td>\n",
       "      <td>0.697978</td>\n",
       "      <td>1.984290</td>\n",
       "      <td>0.178861</td>\n",
       "      <td>-1.805121</td>\n",
       "    </tr>\n",
       "    <tr>\n",
       "      <th>4</th>\n",
       "      <td>131358</td>\n",
       "      <td>-0.754120</td>\n",
       "      <td>-0.566174</td>\n",
       "      <td>0.218307</td>\n",
       "      <td>0.964189</td>\n",
       "    </tr>\n",
       "  </tbody>\n",
       "</table>\n",
       "</div>"
      ],
      "text/plain": [
       "    index         m        pt       phi       eta\n",
       "0   85972 -0.533282 -0.581905  1.087244 -0.071133\n",
       "1   38742 -0.472437 -0.609328  0.573286  0.476957\n",
       "2  128711 -0.498829 -0.570312 -0.622658  0.542203\n",
       "3   28751  0.697978  1.984290  0.178861 -1.805121\n",
       "4  131358 -0.754120 -0.566174  0.218307  0.964189"
      ]
     },
     "execution_count": 90,
     "metadata": {
      "tags": []
     },
     "output_type": "execute_result"
    }
   ],
   "source": [
    "test_x.head()"
   ]
  },
  {
   "cell_type": "code",
   "execution_count": 91,
   "metadata": {
    "colab": {
     "base_uri": "https://localhost:8080/",
     "height": 204
    },
    "colab_type": "code",
    "id": "sPjbfnybwuCA",
    "outputId": "d91dcbdc-5871-4c86-b1df-37ac10b3839d"
   },
   "outputs": [
    {
     "data": {
      "text/html": [
       "<div>\n",
       "<style scoped>\n",
       "    .dataframe tbody tr th:only-of-type {\n",
       "        vertical-align: middle;\n",
       "    }\n",
       "\n",
       "    .dataframe tbody tr th {\n",
       "        vertical-align: top;\n",
       "    }\n",
       "\n",
       "    .dataframe thead th {\n",
       "        text-align: right;\n",
       "    }\n",
       "</style>\n",
       "<table border=\"1\" class=\"dataframe\">\n",
       "  <thead>\n",
       "    <tr style=\"text-align: right;\">\n",
       "      <th></th>\n",
       "      <th>0</th>\n",
       "      <th>1</th>\n",
       "      <th>2</th>\n",
       "      <th>3</th>\n",
       "    </tr>\n",
       "  </thead>\n",
       "  <tbody>\n",
       "    <tr>\n",
       "      <th>0</th>\n",
       "      <td>-0.694137</td>\n",
       "      <td>-0.612456</td>\n",
       "      <td>0.866374</td>\n",
       "      <td>0.761805</td>\n",
       "    </tr>\n",
       "    <tr>\n",
       "      <th>1</th>\n",
       "      <td>-0.589573</td>\n",
       "      <td>-0.594769</td>\n",
       "      <td>-1.491089</td>\n",
       "      <td>0.117831</td>\n",
       "    </tr>\n",
       "    <tr>\n",
       "      <th>2</th>\n",
       "      <td>1.059941</td>\n",
       "      <td>1.234108</td>\n",
       "      <td>-1.086227</td>\n",
       "      <td>0.537455</td>\n",
       "    </tr>\n",
       "    <tr>\n",
       "      <th>3</th>\n",
       "      <td>0.904177</td>\n",
       "      <td>1.419504</td>\n",
       "      <td>-0.911811</td>\n",
       "      <td>1.686114</td>\n",
       "    </tr>\n",
       "    <tr>\n",
       "      <th>4</th>\n",
       "      <td>-0.585355</td>\n",
       "      <td>-0.593466</td>\n",
       "      <td>1.618036</td>\n",
       "      <td>-0.824856</td>\n",
       "    </tr>\n",
       "  </tbody>\n",
       "</table>\n",
       "</div>"
      ],
      "text/plain": [
       "          0         1         2         3\n",
       "0 -0.694137 -0.612456  0.866374  0.761805\n",
       "1 -0.589573 -0.594769 -1.491089  0.117831\n",
       "2  1.059941  1.234108 -1.086227  0.537455\n",
       "3  0.904177  1.419504 -0.911811  1.686114\n",
       "4 -0.585355 -0.593466  1.618036 -0.824856"
      ]
     },
     "execution_count": 91,
     "metadata": {
      "tags": []
     },
     "output_type": "execute_result"
    }
   ],
   "source": [
    "pred.head()"
   ]
  },
  {
   "cell_type": "code",
   "execution_count": 0,
   "metadata": {
    "colab": {},
    "colab_type": "code",
    "id": "YsHaW30TreZZ"
   },
   "outputs": [],
   "source": [
    "test_x.drop(columns='index',inplace=True)\n",
    "train_x.drop(columns='index',inplace=True)\n"
   ]
  },
  {
   "cell_type": "code",
   "execution_count": 0,
   "metadata": {
    "colab": {},
    "colab_type": "code",
    "id": "NoKHez4ajExx"
   },
   "outputs": [],
   "source": [
    "m=test_x.loc[:,'m']-pred.loc[:,0]\n",
    "m=m/test_x.loc[:,'m']\n",
    "pt=test_x.loc[:,'pt']-pred.loc[:,1]\n",
    "pt=pt/test_x.loc[:,'pt']\n",
    "phi=test_x.loc[:,'phi']-pred.loc[:,2]\n",
    "phi=phi/test_x.loc[:,'phi']\n",
    "eta=test_x.loc[:,'eta']-pred.loc[:,3]\n",
    "eta=eta/test_x.loc[:,'eta']"
   ]
  },
  {
   "cell_type": "code",
   "execution_count": 97,
   "metadata": {
    "colab": {
     "base_uri": "https://localhost:8080/",
     "height": 316
    },
    "colab_type": "code",
    "id": "aZAMzb9L07g6",
    "outputId": "e04b2930-e77a-4ee8-c731-657375d9dbb3"
   },
   "outputs": [
    {
     "data": {
      "text/plain": [
       "(array([36., 31., 44., 32., ..., 62., 40., 50., 47.]),\n",
       " array([-1.  , -0.98, -0.96, -0.94, ...,  0.94,  0.96,  0.98,  1.  ]),\n",
       " <a list of 100 Patch objects>)"
      ]
     },
     "execution_count": 97,
     "metadata": {
      "tags": []
     },
     "output_type": "execute_result"
    },
    {
     "data": {
      "image/png": "[encoded data removed]",
      "text/plain": [
       "<Figure size 432x288 with 1 Axes>"
      ]
     },
     "metadata": {
      "tags": []
     },
     "output_type": "display_data"
    }
   ],
   "source": [
    "mpl.pyplot.hist(np.array(m),bins=100,range=(-1,1))\n"
   ]
  },
  {
   "cell_type": "code",
   "execution_count": 98,
   "metadata": {
    "colab": {
     "base_uri": "https://localhost:8080/",
     "height": 316
    },
    "colab_type": "code",
    "id": "CvxmqiQE0_Gz",
    "outputId": "9cb95be0-c3e2-49b9-8dc9-dedda7049ab8"
   },
   "outputs": [
    {
     "data": {
      "text/plain": [
       "(array([2., 5., 3., 5., ..., 6., 4., 3., 5.]),\n",
       " array([-1.  , -0.98, -0.96, -0.94, ...,  0.94,  0.96,  0.98,  1.  ]),\n",
       " <a list of 100 Patch objects>)"
      ]
     },
     "execution_count": 98,
     "metadata": {
      "tags": []
     },
     "output_type": "execute_result"
    },
    {
     "data": {
      "image/png": "[encoded data removed]",
      "text/plain": [
       "<Figure size 432x288 with 1 Axes>"
      ]
     },
     "metadata": {
      "tags": []
     },
     "output_type": "display_data"
    }
   ],
   "source": [
    "mpl.pyplot.hist(np.array(phi),bins=100,range=(-1,1))\n"
   ]
  },
  {
   "cell_type": "code",
   "execution_count": 99,
   "metadata": {
    "colab": {
     "base_uri": "https://localhost:8080/",
     "height": 316
    },
    "colab_type": "code",
    "id": "Bix6Njyb2v6y",
    "outputId": "7d77eafe-bb82-4000-bbdf-4927f1070d69"
   },
   "outputs": [
    {
     "data": {
      "text/plain": [
       "(array([30., 36., 37., 36., ..., 18., 19., 23., 21.]),\n",
       " array([-1.  , -0.98, -0.96, -0.94, ...,  0.94,  0.96,  0.98,  1.  ]),\n",
       " <a list of 100 Patch objects>)"
      ]
     },
     "execution_count": 99,
     "metadata": {
      "tags": []
     },
     "output_type": "execute_result"
    },
    {
     "data": {
      "image/png": "[encoded data removed]",
      "text/plain": [
       "<Figure size 432x288 with 1 Axes>"
      ]
     },
     "metadata": {
      "tags": []
     },
     "output_type": "display_data"
    }
   ],
   "source": [
    "mpl.pyplot.hist(np.array(eta),bins=100,range=(-1,1))\n"
   ]
  },
  {
   "cell_type": "code",
   "execution_count": 100,
   "metadata": {
    "colab": {
     "base_uri": "https://localhost:8080/",
     "height": 316
    },
    "colab_type": "code",
    "id": "kswSlbej21LB",
    "outputId": "3bce7ffa-6c9a-4e71-dbd0-e75403f063d8"
   },
   "outputs": [
    {
     "data": {
      "text/plain": [
       "(array([49., 49., 42., 53., ..., 46., 40., 34., 31.]),\n",
       " array([-1.  , -0.98, -0.96, -0.94, ...,  0.94,  0.96,  0.98,  1.  ]),\n",
       " <a list of 100 Patch objects>)"
      ]
     },
     "execution_count": 100,
     "metadata": {
      "tags": []
     },
     "output_type": "execute_result"
    },
    {
     "data": {
      "image/png": "[encoded data removed]",
      "text/plain": [
       "<Figure size 432x288 with 1 Axes>"
      ]
     },
     "metadata": {
      "tags": []
     },
     "output_type": "display_data"
    }
   ],
   "source": [
    "mpl.pyplot.hist(np.array(pt),bins=100,range=(-1,1))"
   ]
  },
  {
   "cell_type": "code",
   "execution_count": 0,
   "metadata": {
    "colab": {},
    "colab_type": "code",
    "id": "85Px1XTJ3Emz"
   },
   "outputs": [],
   "source": []
  }
 ],
 "metadata": {
  "accelerator": "GPU",
  "colab": {
   "collapsed_sections": [],
   "machine_shape": "hm",
   "name": "AE.ipynb",
   "provenance": [],
   "toc_visible": true
  },
  "kernelspec": {
   "display_name": "Python 3",
   "language": "python",
   "name": "python3"
  },
  "language_info": {
   "codemirror_mode": {
    "name": "ipython",
    "version": 3
   },
   "file_extension": ".py",
   "mimetype": "text/x-python",
   "name": "python",
   "nbconvert_exporter": "python",
   "pygments_lexer": "ipython3",
   "version": "3.6.9"
  }
 },
 "nbformat": 4,
 "nbformat_minor": 1
}
